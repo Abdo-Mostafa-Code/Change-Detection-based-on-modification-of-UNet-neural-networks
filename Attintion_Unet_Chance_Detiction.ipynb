{
 "cells": [
  {
   "cell_type": "code",
   "execution_count": 1,
   "id": "a572a60d",
   "metadata": {
    "colab": {
     "base_uri": "https://localhost:8080/"
    },
    "id": "a572a60d",
    "outputId": "2f5f504e-1bf3-44df-c68c-6c67baaeb233"
   },
   "outputs": [
    {
     "name": "stdout",
     "output_type": "stream",
     "text": [
      "Colab only includes TensorFlow 2.x; %tensorflow_version has no effect.\n",
      "Tensorflow version 2.12.0\n"
     ]
    }
   ],
   "source": [
    "import os\n",
    "import zipfile\n",
    "import PIL.Image, PIL.ImageFont, PIL.ImageDraw\n",
    "import numpy as np\n",
    "import cv2\n",
    "from tensorflow.keras import backend as K\n",
    "from tensorflow.keras import models,layers,regularizers\n",
    "\n",
    "\n",
    "\n",
    "try:\n",
    "  # %tensorflow_version only exists in Colab.\n",
    "  %tensorflow_version 2.x\n",
    "except Exception:\n",
    "    pass\n",
    "\n",
    "import tensorflow as tf\n",
    "from matplotlib import pyplot as plt\n",
    "import seaborn as sns\n",
    "\n",
    "print(\"Tensorflow version \" + tf.__version__)"
   ]
  },
  {
   "cell_type": "code",
   "execution_count": 2,
   "id": "irbgSHvmmTQG",
   "metadata": {
    "colab": {
     "base_uri": "https://localhost:8080/"
    },
    "id": "irbgSHvmmTQG",
    "outputId": "f57550ce-8afa-4c03-e6b9-3fdf7256738a"
   },
   "outputs": [
    {
     "name": "stdout",
     "output_type": "stream",
     "text": [
      "Mounted at /content/drive/\n"
     ]
    }
   ],
   "source": [
    "from google.colab import drive\n",
    "drive.mount('/content/drive/', force_remount=True)"
   ]
  },
  {
   "cell_type": "code",
   "execution_count": 3,
   "id": "Y1SCaMRqmW34",
   "metadata": {
    "id": "Y1SCaMRqmW34"
   },
   "outputs": [],
   "source": [
    "train_zip = \"/content/drive/MyDrive/LEVIR-CD/test.zip\"\n",
    "zip_ref = zipfile.ZipFile(train_zip, \"r\")\n",
    "zip_ref.extractall(\"train.zip\")\n",
    "zip_ref.close()"
   ]
  },
  {
   "cell_type": "code",
   "execution_count": 4,
   "id": "yF4zehlqL7DV",
   "metadata": {
    "id": "yF4zehlqL7DV"
   },
   "outputs": [],
   "source": [
    "val_zip = \"/content/drive/MyDrive/LEVIR-CD/val.zip\"\n",
    "zip_ref = zipfile.ZipFile(val_zip, \"r\")\n",
    "zip_ref.extractall(\"val.zip\")\n",
    "zip_ref.close()"
   ]
  },
  {
   "cell_type": "code",
   "execution_count": 5,
   "id": "rriHeuf2mW63",
   "metadata": {
    "id": "rriHeuf2mW63"
   },
   "outputs": [],
   "source": [
    "test_zip = \"/content/drive/MyDrive/LEVIR-CD/test.zip\"\n",
    "zip_ref = zipfile.ZipFile(train_zip, \"r\")\n",
    "zip_ref.extractall(\"test.zip\")\n",
    "zip_ref.close()"
   ]
  },
  {
   "cell_type": "code",
   "execution_count": 6,
   "id": "60385f4a",
   "metadata": {
    "id": "60385f4a"
   },
   "outputs": [],
   "source": [
    "# pixel labels in the video frames\n",
    "class_names = ['change','no_change']"
   ]
  },
  {
   "cell_type": "code",
   "execution_count": 7,
   "id": "2d87100d",
   "metadata": {
    "id": "2d87100d"
   },
   "outputs": [],
   "source": [
    "def concat_imgs(A,B):\n",
    "    img=tf.concat([A,B],axis=2)\n",
    "    #Images.append(img)\n",
    "    return img"
   ]
  },
  {
   "cell_type": "code",
   "execution_count": 8,
   "id": "e9d323bc",
   "metadata": {
    "id": "e9d323bc"
   },
   "outputs": [],
   "source": [
    "def map_filename_to_image_and_mask(A_filename, B_filename,Label_filename,height=128, width=128):\n",
    "    \"\"\"\n",
    "      Preprocess the dataset by:\n",
    "        * resizing the input image and the label map\n",
    "        * normalizing the input_A image pixels ,input_B image pixels\n",
    "        * concat input_A image with input_B image\n",
    "\n",
    "      Args:\n",
    "        A_filename (string) -- path to the first raw input image\n",
    "        B_filename (string) -- path to the raw escond raw input image\n",
    "        Label_filename (string) -- path to the raw annotation (label map) file\n",
    "        \n",
    "        height (int) -- height in pixels to resize to\n",
    "        width (int) -- width in pixels to resize to\n",
    "\n",
    "      Returns:\n",
    "        image (tensor) -- preprocessed image\n",
    "        annotation (tensor) -- preprocessed Label\n",
    "      \"\"\"\n",
    "  \n",
    "  # convert image and the mask file to tensor\n",
    "    img_A_raw = tf.io.read_file(A_filename)\n",
    "    img_B_raw = tf.io.read_file(B_filename)\n",
    "    image_A = tf.image.decode_jpeg(img_A_raw)\n",
    "    image_B = tf.image.decode_jpeg(img_B_raw)\n",
    "\n",
    "    anno_raw = tf.io.read_file(Label_filename)\n",
    "    annotation = tf.image.decode_jpeg(anno_raw)\n",
    "\n",
    "    # Resize image and segmentation mask\n",
    "    image_A = tf.image.resize(image_A, (height, width,))\n",
    "    image_B = tf.image.resize(image_B, (height, width,))\n",
    "    \n",
    "    annotation = tf.image.resize(annotation, (height, width,))\n",
    "    image_A = tf.reshape(image_A, (height, width, 3,))\n",
    "    image_B = tf.reshape(image_B, (height, width, 3,))\n",
    "    annotation = tf.cast(annotation, dtype=tf.float32)\n",
    "    annotation=annotation//255\n",
    "    annotation = tf.reshape(annotation, (height, width, 1,))\n",
    "    \n",
    "    \n",
    "   \n",
    "    # print(annotation)\n",
    "\n",
    "    # Normalize pixels in the input image in range (-1,1)\n",
    "    image_A = image_A/255\n",
    "    image_A = (image_A - tf.reduce_min(image_A)) / (tf.reduce_max(image_A) - tf.reduce_min(image_A))\n",
    "    image_A=2*image_A-1\n",
    "    #image -= 1\n",
    "\n",
    "\n",
    "    # Normalize pixels in the input image in range (-1,1)\n",
    "    image_B = image_B/255\n",
    "    image_B = (image_B - tf.reduce_min(image_B)) / (tf.reduce_max(image_B) - tf.reduce_min(image_B))\n",
    "    image_B=2*image_B-1\n",
    "    #image -= 1\n",
    "    \n",
    "\n",
    "\n",
    "    # concat\n",
    "    image=concat_imgs(image_A,image_B)\n",
    "\n",
    "\n",
    "    return image, annotation"
   ]
  },
  {
   "cell_type": "code",
   "execution_count": 9,
   "id": "abcbb3b4",
   "metadata": {
    "id": "abcbb3b4"
   },
   "outputs": [],
   "source": [
    "def get_dataset_slice_paths(image_A_dir, image_B_dir, label_map_dir):\n",
    "    '''\n",
    "    generates the lists of image and label map paths\n",
    "\n",
    "    Args:\n",
    "    image_A_dir (string) -- path to the first input images directory\n",
    "    image_B_dir (string) -- path to the second input images directory\n",
    "    label_map_dir (string) -- path to the label map directory\n",
    "\n",
    "    Returns:\n",
    "    image_paths (list of strings) -- paths to each image file\n",
    "    label_map_paths (list of strings) -- paths to each label map\n",
    "    '''\n",
    "    image_A_file_list = os.listdir(image_A_dir)\n",
    "    image_B_file_list = os.listdir(image_B_dir)\n",
    "\n",
    "    label_map_file_list = os.listdir(label_map_dir)\n",
    "    image_A_paths = [os.path.join(image_A_dir, fname) for fname in image_A_file_list]\n",
    "    image_B_paths = [os.path.join(image_B_dir, fname) for fname in image_B_file_list]\n",
    "\n",
    "    label_map_paths = [os.path.join(label_map_dir, fname) for fname in label_map_file_list]\n",
    "\n",
    "    return image_A_paths,image_B_paths, label_map_paths"
   ]
  },
  {
   "cell_type": "code",
   "execution_count": 10,
   "id": "890f3204",
   "metadata": {
    "id": "890f3204"
   },
   "outputs": [],
   "source": [
    "BATCH_SIZE = 64\n",
    "def get_training_dataset(train_img_A_dir,train_img_B_dir, label_map_paths):\n",
    "    '''\n",
    "    Prepares shuffled batches of the training set.\n",
    "\n",
    "    Args:\n",
    "    train_img_A_dir (list of strings) -- paths to each image file in the A train set\n",
    "    train_img_A_dir (list of strings) -- paths to each image file in the B train set\n",
    "    label_map_paths (list of strings) -- paths to each label map in the train set\n",
    "\n",
    "    Returns:\n",
    "    tf Dataset containing the preprocessed train set\n",
    "    '''\n",
    "    training_dataset = tf.data.Dataset.from_tensor_slices((image_A_paths,image_B_paths, label_map_paths))\n",
    "    training_dataset = training_dataset.map(map_filename_to_image_and_mask)\n",
    "    training_dataset = training_dataset.shuffle(100, reshuffle_each_iteration=True)\n",
    "    training_dataset = training_dataset.batch(BATCH_SIZE)\n",
    "    #training_dataset = training_dataset.repeat()\n",
    "    #training_dataset = training_dataset.prefetch(-1)\n",
    "\n",
    "    return training_dataset\n",
    "\n",
    "\n",
    "def get_validation_dataset(val_img_A_dir,val_img_B_dir, Val_label_dir):\n",
    "    '''\n",
    "    Prepares batches of the validation set.\n",
    "\n",
    "    Args:\n",
    "    val_img_A_dir (list of strings) -- paths to each image file in the A val set\n",
    "    val_img_A_dir (list of strings) -- paths to each image file in the B val set\n",
    "    label_map_paths (list of strings) -- paths to each label map in the val set\n",
    "\n",
    "    Returns:\n",
    "    tf Dataset containing the preprocessed validation set\n",
    "    '''\n",
    "    validation_dataset = tf.data.Dataset.from_tensor_slices((validation_image_A_paths,validation_image_B_paths, validation_label_map_paths))\n",
    "    validation_dataset = validation_dataset.map(map_filename_to_image_and_mask)\n",
    "    validation_dataset = validation_dataset.batch(BATCH_SIZE)\n",
    "    #validation_dataset = validation_dataset.repeat()\n",
    "\n",
    "    return validation_dataset\n",
    "\n",
    "def get_test_dataset(test_img_A_dir,test_img_B_dir, test_label_dir):\n",
    "  num_examples=len(os.listdir(Test_label_dir))\n",
    "\n",
    "  image_A_paths,image_B_paths, label_map_paths =get_dataset_slice_paths(test_img_A_dir,test_img_B_dir, test_label_dir)\n",
    "  images=[] \n",
    "  labels=[]\n",
    "  for i in range(len(image_A_paths)):\n",
    "    img,label=map_filename_to_image_and_mask(image_A_paths[i],image_B_paths[i], label_map_paths[i])\n",
    "    images.append(img)\n",
    "    labels.append(label)\n",
    "  images=tf.data.Dataset.from_tensor_slices(images)\n",
    "  images = images.batch(num_examples)\n",
    "\n",
    "  labels=tf.data.Dataset.from_tensor_slices(labels)\n",
    "  labels = labels.batch(num_examples)\n",
    "\n",
    "  return  images, labels"
   ]
  },
  {
   "cell_type": "code",
   "execution_count": 11,
   "id": "8_E0EQtLtlQt",
   "metadata": {
    "id": "8_E0EQtLtlQt"
   },
   "outputs": [],
   "source": [
    "base_dir='/content'\n",
    "train_img_A_dir=os.path.join(base_dir,\"train.zip/A\")\n",
    "train_img_B_dir=os.path.join(base_dir,\"train.zip/B\")\n",
    "val_img_A_dir=os.path.join(base_dir,\"val.zip/A\")\n",
    "val_img_B_dir=os.path.join(base_dir,\"val.zip/B\")\n",
    "\n",
    "test_img_A_dir=os.path.join(base_dir,\"test.zip/A\")\n",
    "test_img_B_dir=os.path.join(base_dir,\"test.zip/B\")\n",
    "\n",
    "Train_label_dir=os.path.join(base_dir,\"train.zip/label\")\n",
    "Val_label_dir=os.path.join(base_dir,\"val.zip/label\")\n",
    "Test_label_dir=os.path.join(base_dir,\"test.zip/label\")"
   ]
  },
  {
   "cell_type": "code",
   "execution_count": 12,
   "id": "83ca7852",
   "metadata": {
    "id": "83ca7852"
   },
   "outputs": [],
   "source": [
    "# get the paths to the images\n",
    "image_A_paths,image_B_paths, label_map_paths=get_dataset_slice_paths(train_img_A_dir,train_img_B_dir,Train_label_dir)\n",
    "validation_image_A_paths,validation_image_B_paths,validation_label_map_paths = get_dataset_slice_paths(val_img_A_dir,val_img_B_dir,Val_label_dir)\n",
    "test_image_A_paths, test_image_B_paths, test_label_map_paths=get_dataset_slice_paths(test_img_A_dir,test_img_B_dir,Test_label_dir)"
   ]
  },
  {
   "cell_type": "code",
   "execution_count": 13,
   "id": "d5ac5a6a",
   "metadata": {
    "id": "d5ac5a6a"
   },
   "outputs": [],
   "source": [
    "training_dataset=get_training_dataset(image_A_paths,image_B_paths,label_map_paths)\n",
    "validation_dataset=get_validation_dataset(validation_image_A_paths,validation_image_B_paths,validation_label_map_paths)\n",
    "test_imgs,test_label=get_test_dataset(test_img_A_dir,test_img_B_dir,Test_label_dir)"
   ]
  },
  {
   "cell_type": "code",
   "execution_count": 14,
   "id": "8c5bRFVcTPoB",
   "metadata": {
    "colab": {
     "base_uri": "https://localhost:8080/"
    },
    "id": "8c5bRFVcTPoB",
    "outputId": "749bd4b1-13d3-45d0-dfec-f8bcbcd7243c"
   },
   "outputs": [
    {
     "name": "stdout",
     "output_type": "stream",
     "text": [
      "1.0\n",
      "-1.0\n"
     ]
    }
   ],
   "source": [
    "#Check Range of pixels \n",
    "for i in training_dataset.take(1):\n",
    "  #plt.imshow(i[0])\n",
    "  #plt.show()\n",
    "  print(np.amax(i[0]))\n",
    "  print(np.amin(i[0]))"
   ]
  },
  {
   "cell_type": "code",
   "execution_count": 15,
   "id": "NJ2LxmVvTPqT",
   "metadata": {
    "colab": {
     "base_uri": "https://localhost:8080/"
    },
    "id": "NJ2LxmVvTPqT",
    "outputId": "180d8803-fed8-43fa-94a7-5740faeadb76"
   },
   "outputs": [
    {
     "name": "stdout",
     "output_type": "stream",
     "text": [
      "1.0\n",
      "0.0\n"
     ]
    }
   ],
   "source": [
    "#Check Range of pixels of label \n",
    "for i in training_dataset.take(1):\n",
    "  #plt.imshow(i[1])\n",
    "  #plt.show()\n",
    "  print(np.amax(i[1]))\n",
    "  print(np.amin(i[1]))"
   ]
  },
  {
   "cell_type": "markdown",
   "id": "zBCGSo4rwJIL",
   "metadata": {
    "id": "zBCGSo4rwJIL"
   },
   "source": [
    "<img src='https://drive.google.com/uc?export=view&id=1Gs9K3_8ZBn2_ntOtJL_-_ww4ZOgfyhrS' alt='unet'>"
   ]
  },
  {
   "cell_type": "code",
   "execution_count": 16,
   "id": "CikpQ3_Lz7em",
   "metadata": {
    "id": "CikpQ3_Lz7em"
   },
   "outputs": [],
   "source": [
    "# Encoder Utilities\n",
    "\n",
    "def conv2d_block(input_tensor, n_filters, kernel_size = 3):\n",
    "  '''\n",
    "  Adds 2 convolutional layers with the parameters passed to it\n",
    "\n",
    "  Args:\n",
    "    input_tensor (tensor) -- the input tensor\n",
    "    n_filters (int) -- number of filters\n",
    "    kernel_size (int) -- kernel size for the convolution\n",
    "\n",
    "  Returns:\n",
    "    tensor of output features\n",
    "  '''\n",
    "  # first layer\n",
    "  x = input_tensor\n",
    "  for i in range(2):\n",
    "    x = tf.keras.layers.Conv2D(filters = n_filters, kernel_size = (kernel_size, kernel_size),\\\n",
    "            kernel_initializer = 'he_normal', padding = 'same')(x)\n",
    "    x = tf.keras.layers.Activation('relu')(x)\n",
    "  \n",
    "  return x\n",
    "\n",
    "\n",
    "def encoder_block(inputs, n_filters=64, pool_size=(2,2), dropout=0.3):\n",
    "  '''\n",
    "  Adds two convolutional blocks and then perform down sampling on output of convolutions.\n",
    "\n",
    "  Args:\n",
    "    input_tensor (tensor) -- the input tensor\n",
    "    n_filters (int) -- number of filters\n",
    "    kernel_size (int) -- kernel size for the convolution\n",
    "\n",
    "  Returns:\n",
    "    f - the output features of the convolution block \n",
    "    p - the maxpooled features with dropout\n",
    "  '''\n",
    "\n",
    "  f = conv2d_block(inputs, n_filters=n_filters)\n",
    "  p = tf.keras.layers.MaxPooling2D(pool_size=(2,2))(f)\n",
    "  p = tf.keras.layers.Dropout(0.3)(p)\n",
    "\n",
    "  return f, p\n",
    "\n",
    "\n",
    "def encoder(inputs):\n",
    "  '''\n",
    "  This function defines the encoder or downsampling path.\n",
    "\n",
    "  Args:\n",
    "    inputs (tensor) -- batch of input images\n",
    "\n",
    "  Returns:\n",
    "    p4 - the output maxpooled features of the last encoder block\n",
    "    (f1, f2, f3, f4) - the output features of all the encoder blocks\n",
    "  '''\n",
    "  f1, p1 = encoder_block(inputs, n_filters=64, pool_size=(2,2), dropout=0.3)\n",
    "  f2, p2 = encoder_block(p1, n_filters=128, pool_size=(2,2), dropout=0.3)\n",
    "  f3, p3 = encoder_block(p2, n_filters=256, pool_size=(2,2), dropout=0.3)\n",
    "  f4, p4 = encoder_block(p3, n_filters=512, pool_size=(2,2), dropout=0.3)\n",
    "\n",
    "  return p4, (f1, f2, f3, f4)"
   ]
  },
  {
   "cell_type": "markdown",
   "id": "2zjmfFkEwapP",
   "metadata": {
    "id": "2zjmfFkEwapP"
   },
   "source": [
    "### Bottleneck"
   ]
  },
  {
   "cell_type": "code",
   "execution_count": 17,
   "id": "Lwg6AAGHz7h9",
   "metadata": {
    "id": "Lwg6AAGHz7h9"
   },
   "outputs": [],
   "source": [
    "def bottleneck(inputs):\n",
    "  '''\n",
    "  This function defines the bottleneck convolutions to extract more features before the upsampling layers.\n",
    "  '''\n",
    "  \n",
    "  bottle_neck = conv2d_block(inputs, n_filters=1024)\n",
    "\n",
    "  return bottle_neck"
   ]
  },
  {
   "cell_type": "markdown",
   "id": "x-QxzzuYwgi4",
   "metadata": {
    "id": "x-QxzzuYwgi4"
   },
   "source": [
    "<img src='https://drive.google.com/uc?export=view&id=1Ql5vdw6l88vxaHgk7VjcMc4vfyoWYx2w' alt='unet_decoder'>"
   ]
  },
  {
   "cell_type": "code",
   "execution_count": 18,
   "id": "OIC9QqQCcGD4",
   "metadata": {
    "id": "OIC9QqQCcGD4"
   },
   "outputs": [],
   "source": [
    "def attention_block(gating,x ,inter_shape):\n",
    "    shape_x = K.int_shape(x)\n",
    "    shape_g = K.int_shape(gating)\n",
    "\n",
    "    theta_x = tf.keras.layers.Conv2D(inter_shape, (2, 2), strides=(2, 2), padding='same')(x)  # 16\n",
    "    shape_theta_x = K.int_shape(theta_x)\n",
    "    \n",
    "    #gating = tf.keras.layers.Conv2D(inter_shape, (1, 1), padding='same')(gating)\n",
    "\n",
    "    phi_g = layers.Conv2D(inter_shape, (1, 1), padding='same')(gating)\n",
    "\n",
    "    concat_xg = tf.keras.layers.add([phi_g, theta_x])\n",
    "    act_xg = tf.keras.layers.Activation('relu')(concat_xg)\n",
    "    psi = tf.keras.layers.Conv2D(1, (1, 1), padding='same')(act_xg)\n",
    "    sigmoid_xg = tf.keras.layers.Activation('sigmoid')(psi)\n",
    "    shape_sigmoid = K.int_shape(sigmoid_xg)\n",
    "    upsample_psi = layers.UpSampling2D(size=(shape_x[1] // shape_sigmoid[1], shape_x[2] // shape_sigmoid[2]))(sigmoid_xg)  # 32\n",
    "    #upsample_psi = tf.keras.layers.UpSampling2D(size=(2,2))(sigmoid_xg)\n",
    "\n",
    "    #upsample_psi = expend_as(upsample_psi, shape_x[3])\n",
    "\n",
    "    y = tf.keras.layers.multiply([upsample_psi, x])\n",
    "\n",
    "    result = tf.keras.layers.Conv2D(shape_x[3], (1, 1), padding='same')(y)\n",
    "    #result_bn = layers.BatchNormalization()(result)\n",
    "    return result"
   ]
  },
  {
   "cell_type": "code",
   "execution_count": 19,
   "id": "eBuzO4R6cNZ4",
   "metadata": {
    "id": "eBuzO4R6cNZ4"
   },
   "outputs": [],
   "source": [
    "# Decoder Utilities\n",
    "\n",
    "def decoder_block(inputs, conv_output_lowr,conv_output_hgier, n_filters=64, kernel_size=3, strides=3, dropout=0.3):\n",
    "    '''\n",
    "    defines the one decoder block of the UNet\n",
    "\n",
    "    Args:\n",
    "    inputs (tensor) -- batch of input features\n",
    "    conv_output (tensor) -- features from an encoder block\n",
    "    n_filters (int) -- number of filters\n",
    "    kernel_size (int) -- kernel size\n",
    "    strides (int) -- strides for the deconvolution/upsampling\n",
    "    padding (string) -- \"same\" or \"valid\", tells if shape will be preserved by zero padding\n",
    "\n",
    "    Returns:\n",
    "    c (tensor) -- output features of the decoder block\n",
    "    '''\n",
    "    u = tf.keras.layers.Conv2DTranspose(n_filters, kernel_size, strides = strides, padding = 'same')(inputs)\n",
    "    conv_output = attention_block(conv_output_lowr,conv_output_hgier,n_filters)\n",
    "    \n",
    "    \n",
    "    \n",
    "    c = tf.keras.layers.concatenate([u, conv_output])\n",
    "    c = tf.keras.layers.Dropout(dropout)(c)\n",
    "    c = conv2d_block(c, n_filters, kernel_size=3)\n",
    "\n",
    "    return c\n",
    "\n",
    "\n",
    "def decoder(inputs, convs,encoder_output, output_channels):\n",
    "    '''\n",
    "    Defines the decoder of the UNet chaining together 4 decoder blocks. \n",
    "\n",
    "    Args:\n",
    "    inputs (tensor) -- batch of input features\n",
    "    convs (tuple) -- features from the encoder blocks\n",
    "    output_channels (int) -- number of classes in the label map\n",
    "\n",
    "    Returns:\n",
    "    outputs (tensor) -- the pixel wise label map of the image\n",
    "    '''\n",
    "    #encoder_output=f5\n",
    "  \n",
    "    f1, f2, f3, f4 = convs\n",
    "\n",
    "    c6 = decoder_block(inputs,encoder_output, f4, n_filters=512, kernel_size=(3,3), strides=(2,2), dropout=0.3)\n",
    "    c7 = decoder_block(c6,f4,f3, n_filters=256, kernel_size=(3,3), strides=(2,2), dropout=0.3)\n",
    "    c8 = decoder_block(c7,f3,f2, n_filters=128, kernel_size=(3,3), strides=(2,2), dropout=0.3)\n",
    "    c9 = decoder_block(c8,f2,f1, n_filters=64, kernel_size=(3,3), strides=(2,2), dropout=0.3)\n",
    "\n",
    "    outputs = tf.keras.layers.Conv2D(output_channels, (1, 1), activation='sigmoid')(c9)\n",
    "\n",
    "    return outputs"
   ]
  },
  {
   "cell_type": "code",
   "execution_count": 83,
   "id": "X19niZwqcZnZ",
   "metadata": {
    "colab": {
     "base_uri": "https://localhost:8080/"
    },
    "id": "X19niZwqcZnZ",
    "outputId": "9a6cac50-0406-4fe1-8b99-ade38a7ffd51"
   },
   "outputs": [
    {
     "name": "stdout",
     "output_type": "stream",
     "text": [
      "Model: \"model_6\"\n",
      "__________________________________________________________________________________________________\n",
      " Layer (type)                   Output Shape         Param #     Connected to                     \n",
      "==================================================================================================\n",
      " input_7 (InputLayer)           [(None, 128, 128, 6  0           []                               \n",
      "                                )]                                                                \n",
      "                                                                                                  \n",
      " conv2d_210 (Conv2D)            (None, 128, 128, 64  3520        ['input_7[0][0]']                \n",
      "                                )                                                                 \n",
      "                                                                                                  \n",
      " activation_156 (Activation)    (None, 128, 128, 64  0           ['conv2d_210[0][0]']             \n",
      "                                )                                                                 \n",
      "                                                                                                  \n",
      " conv2d_211 (Conv2D)            (None, 128, 128, 64  36928       ['activation_156[0][0]']         \n",
      "                                )                                                                 \n",
      "                                                                                                  \n",
      " activation_157 (Activation)    (None, 128, 128, 64  0           ['conv2d_211[0][0]']             \n",
      "                                )                                                                 \n",
      "                                                                                                  \n",
      " max_pooling2d_24 (MaxPooling2D  (None, 64, 64, 64)  0           ['activation_157[0][0]']         \n",
      " )                                                                                                \n",
      "                                                                                                  \n",
      " dropout_48 (Dropout)           (None, 64, 64, 64)   0           ['max_pooling2d_24[0][0]']       \n",
      "                                                                                                  \n",
      " conv2d_212 (Conv2D)            (None, 64, 64, 128)  73856       ['dropout_48[0][0]']             \n",
      "                                                                                                  \n",
      " activation_158 (Activation)    (None, 64, 64, 128)  0           ['conv2d_212[0][0]']             \n",
      "                                                                                                  \n",
      " conv2d_213 (Conv2D)            (None, 64, 64, 128)  147584      ['activation_158[0][0]']         \n",
      "                                                                                                  \n",
      " activation_159 (Activation)    (None, 64, 64, 128)  0           ['conv2d_213[0][0]']             \n",
      "                                                                                                  \n",
      " max_pooling2d_25 (MaxPooling2D  (None, 32, 32, 128)  0          ['activation_159[0][0]']         \n",
      " )                                                                                                \n",
      "                                                                                                  \n",
      " dropout_49 (Dropout)           (None, 32, 32, 128)  0           ['max_pooling2d_25[0][0]']       \n",
      "                                                                                                  \n",
      " conv2d_214 (Conv2D)            (None, 32, 32, 256)  295168      ['dropout_49[0][0]']             \n",
      "                                                                                                  \n",
      " activation_160 (Activation)    (None, 32, 32, 256)  0           ['conv2d_214[0][0]']             \n",
      "                                                                                                  \n",
      " conv2d_215 (Conv2D)            (None, 32, 32, 256)  590080      ['activation_160[0][0]']         \n",
      "                                                                                                  \n",
      " activation_161 (Activation)    (None, 32, 32, 256)  0           ['conv2d_215[0][0]']             \n",
      "                                                                                                  \n",
      " max_pooling2d_26 (MaxPooling2D  (None, 16, 16, 256)  0          ['activation_161[0][0]']         \n",
      " )                                                                                                \n",
      "                                                                                                  \n",
      " dropout_50 (Dropout)           (None, 16, 16, 256)  0           ['max_pooling2d_26[0][0]']       \n",
      "                                                                                                  \n",
      " conv2d_216 (Conv2D)            (None, 16, 16, 512)  1180160     ['dropout_50[0][0]']             \n",
      "                                                                                                  \n",
      " activation_162 (Activation)    (None, 16, 16, 512)  0           ['conv2d_216[0][0]']             \n",
      "                                                                                                  \n",
      " conv2d_217 (Conv2D)            (None, 16, 16, 512)  2359808     ['activation_162[0][0]']         \n",
      "                                                                                                  \n",
      " activation_163 (Activation)    (None, 16, 16, 512)  0           ['conv2d_217[0][0]']             \n",
      "                                                                                                  \n",
      " max_pooling2d_27 (MaxPooling2D  (None, 8, 8, 512)   0           ['activation_163[0][0]']         \n",
      " )                                                                                                \n",
      "                                                                                                  \n",
      " dropout_51 (Dropout)           (None, 8, 8, 512)    0           ['max_pooling2d_27[0][0]']       \n",
      "                                                                                                  \n",
      " conv2d_221 (Conv2D)            (None, 8, 8, 512)    262656      ['dropout_51[0][0]']             \n",
      "                                                                                                  \n",
      " conv2d_220 (Conv2D)            (None, 8, 8, 512)    1049088     ['activation_163[0][0]']         \n",
      "                                                                                                  \n",
      " add_24 (Add)                   (None, 8, 8, 512)    0           ['conv2d_221[0][0]',             \n",
      "                                                                  'conv2d_220[0][0]']             \n",
      "                                                                                                  \n",
      " activation_166 (Activation)    (None, 8, 8, 512)    0           ['add_24[0][0]']                 \n",
      "                                                                                                  \n",
      " conv2d_218 (Conv2D)            (None, 8, 8, 1024)   4719616     ['dropout_51[0][0]']             \n",
      "                                                                                                  \n",
      " conv2d_222 (Conv2D)            (None, 8, 8, 1)      513         ['activation_166[0][0]']         \n",
      "                                                                                                  \n",
      " activation_164 (Activation)    (None, 8, 8, 1024)   0           ['conv2d_218[0][0]']             \n",
      "                                                                                                  \n",
      " activation_167 (Activation)    (None, 8, 8, 1)      0           ['conv2d_222[0][0]']             \n",
      "                                                                                                  \n",
      " conv2d_219 (Conv2D)            (None, 8, 8, 1024)   9438208     ['activation_164[0][0]']         \n",
      "                                                                                                  \n",
      " up_sampling2d_24 (UpSampling2D  (None, 16, 16, 1)   0           ['activation_167[0][0]']         \n",
      " )                                                                                                \n",
      "                                                                                                  \n",
      " activation_165 (Activation)    (None, 8, 8, 1024)   0           ['conv2d_219[0][0]']             \n",
      "                                                                                                  \n",
      " multiply_24 (Multiply)         (None, 16, 16, 512)  0           ['up_sampling2d_24[0][0]',       \n",
      "                                                                  'activation_163[0][0]']         \n",
      "                                                                                                  \n",
      " conv2d_transpose_24 (Conv2DTra  (None, 16, 16, 512)  4719104    ['activation_165[0][0]']         \n",
      " nspose)                                                                                          \n",
      "                                                                                                  \n",
      " conv2d_223 (Conv2D)            (None, 16, 16, 512)  262656      ['multiply_24[0][0]']            \n",
      "                                                                                                  \n",
      " conv2d_227 (Conv2D)            (None, 16, 16, 256)  131328      ['activation_163[0][0]']         \n",
      "                                                                                                  \n",
      " conv2d_226 (Conv2D)            (None, 16, 16, 256)  262400      ['activation_161[0][0]']         \n",
      "                                                                                                  \n",
      " concatenate_24 (Concatenate)   (None, 16, 16, 1024  0           ['conv2d_transpose_24[0][0]',    \n",
      "                                )                                 'conv2d_223[0][0]']             \n",
      "                                                                                                  \n",
      " add_25 (Add)                   (None, 16, 16, 256)  0           ['conv2d_227[0][0]',             \n",
      "                                                                  'conv2d_226[0][0]']             \n",
      "                                                                                                  \n",
      " dropout_52 (Dropout)           (None, 16, 16, 1024  0           ['concatenate_24[0][0]']         \n",
      "                                )                                                                 \n",
      "                                                                                                  \n",
      " activation_170 (Activation)    (None, 16, 16, 256)  0           ['add_25[0][0]']                 \n",
      "                                                                                                  \n",
      " conv2d_224 (Conv2D)            (None, 16, 16, 512)  4719104     ['dropout_52[0][0]']             \n",
      "                                                                                                  \n",
      " conv2d_228 (Conv2D)            (None, 16, 16, 1)    257         ['activation_170[0][0]']         \n",
      "                                                                                                  \n",
      " activation_168 (Activation)    (None, 16, 16, 512)  0           ['conv2d_224[0][0]']             \n",
      "                                                                                                  \n",
      " activation_171 (Activation)    (None, 16, 16, 1)    0           ['conv2d_228[0][0]']             \n",
      "                                                                                                  \n",
      " conv2d_225 (Conv2D)            (None, 16, 16, 512)  2359808     ['activation_168[0][0]']         \n",
      "                                                                                                  \n",
      " up_sampling2d_25 (UpSampling2D  (None, 32, 32, 1)   0           ['activation_171[0][0]']         \n",
      " )                                                                                                \n",
      "                                                                                                  \n",
      " activation_169 (Activation)    (None, 16, 16, 512)  0           ['conv2d_225[0][0]']             \n",
      "                                                                                                  \n",
      " multiply_25 (Multiply)         (None, 32, 32, 256)  0           ['up_sampling2d_25[0][0]',       \n",
      "                                                                  'activation_161[0][0]']         \n",
      "                                                                                                  \n",
      " conv2d_transpose_25 (Conv2DTra  (None, 32, 32, 256)  1179904    ['activation_169[0][0]']         \n",
      " nspose)                                                                                          \n",
      "                                                                                                  \n",
      " conv2d_229 (Conv2D)            (None, 32, 32, 256)  65792       ['multiply_25[0][0]']            \n",
      "                                                                                                  \n",
      " conv2d_233 (Conv2D)            (None, 32, 32, 128)  32896       ['activation_161[0][0]']         \n",
      "                                                                                                  \n",
      " conv2d_232 (Conv2D)            (None, 32, 32, 128)  65664       ['activation_159[0][0]']         \n",
      "                                                                                                  \n",
      " concatenate_25 (Concatenate)   (None, 32, 32, 512)  0           ['conv2d_transpose_25[0][0]',    \n",
      "                                                                  'conv2d_229[0][0]']             \n",
      "                                                                                                  \n",
      " add_26 (Add)                   (None, 32, 32, 128)  0           ['conv2d_233[0][0]',             \n",
      "                                                                  'conv2d_232[0][0]']             \n",
      "                                                                                                  \n",
      " dropout_53 (Dropout)           (None, 32, 32, 512)  0           ['concatenate_25[0][0]']         \n",
      "                                                                                                  \n",
      " activation_174 (Activation)    (None, 32, 32, 128)  0           ['add_26[0][0]']                 \n",
      "                                                                                                  \n",
      " conv2d_230 (Conv2D)            (None, 32, 32, 256)  1179904     ['dropout_53[0][0]']             \n",
      "                                                                                                  \n",
      " conv2d_234 (Conv2D)            (None, 32, 32, 1)    129         ['activation_174[0][0]']         \n",
      "                                                                                                  \n",
      " activation_172 (Activation)    (None, 32, 32, 256)  0           ['conv2d_230[0][0]']             \n",
      "                                                                                                  \n",
      " activation_175 (Activation)    (None, 32, 32, 1)    0           ['conv2d_234[0][0]']             \n",
      "                                                                                                  \n",
      " conv2d_231 (Conv2D)            (None, 32, 32, 256)  590080      ['activation_172[0][0]']         \n",
      "                                                                                                  \n",
      " up_sampling2d_26 (UpSampling2D  (None, 64, 64, 1)   0           ['activation_175[0][0]']         \n",
      " )                                                                                                \n",
      "                                                                                                  \n",
      " activation_173 (Activation)    (None, 32, 32, 256)  0           ['conv2d_231[0][0]']             \n",
      "                                                                                                  \n",
      " multiply_26 (Multiply)         (None, 64, 64, 128)  0           ['up_sampling2d_26[0][0]',       \n",
      "                                                                  'activation_159[0][0]']         \n",
      "                                                                                                  \n",
      " conv2d_transpose_26 (Conv2DTra  (None, 64, 64, 128)  295040     ['activation_173[0][0]']         \n",
      " nspose)                                                                                          \n",
      "                                                                                                  \n",
      " conv2d_235 (Conv2D)            (None, 64, 64, 128)  16512       ['multiply_26[0][0]']            \n",
      "                                                                                                  \n",
      " conv2d_239 (Conv2D)            (None, 64, 64, 64)   8256        ['activation_159[0][0]']         \n",
      "                                                                                                  \n",
      " conv2d_238 (Conv2D)            (None, 64, 64, 64)   16448       ['activation_157[0][0]']         \n",
      "                                                                                                  \n",
      " concatenate_26 (Concatenate)   (None, 64, 64, 256)  0           ['conv2d_transpose_26[0][0]',    \n",
      "                                                                  'conv2d_235[0][0]']             \n",
      "                                                                                                  \n",
      " add_27 (Add)                   (None, 64, 64, 64)   0           ['conv2d_239[0][0]',             \n",
      "                                                                  'conv2d_238[0][0]']             \n",
      "                                                                                                  \n",
      " dropout_54 (Dropout)           (None, 64, 64, 256)  0           ['concatenate_26[0][0]']         \n",
      "                                                                                                  \n",
      " activation_178 (Activation)    (None, 64, 64, 64)   0           ['add_27[0][0]']                 \n",
      "                                                                                                  \n",
      " conv2d_236 (Conv2D)            (None, 64, 64, 128)  295040      ['dropout_54[0][0]']             \n",
      "                                                                                                  \n",
      " conv2d_240 (Conv2D)            (None, 64, 64, 1)    65          ['activation_178[0][0]']         \n",
      "                                                                                                  \n",
      " activation_176 (Activation)    (None, 64, 64, 128)  0           ['conv2d_236[0][0]']             \n",
      "                                                                                                  \n",
      " activation_179 (Activation)    (None, 64, 64, 1)    0           ['conv2d_240[0][0]']             \n",
      "                                                                                                  \n",
      " conv2d_237 (Conv2D)            (None, 64, 64, 128)  147584      ['activation_176[0][0]']         \n",
      "                                                                                                  \n",
      " up_sampling2d_27 (UpSampling2D  (None, 128, 128, 1)  0          ['activation_179[0][0]']         \n",
      " )                                                                                                \n",
      "                                                                                                  \n",
      " activation_177 (Activation)    (None, 64, 64, 128)  0           ['conv2d_237[0][0]']             \n",
      "                                                                                                  \n",
      " multiply_27 (Multiply)         (None, 128, 128, 64  0           ['up_sampling2d_27[0][0]',       \n",
      "                                )                                 'activation_157[0][0]']         \n",
      "                                                                                                  \n",
      " conv2d_transpose_27 (Conv2DTra  (None, 128, 128, 64  73792      ['activation_177[0][0]']         \n",
      " nspose)                        )                                                                 \n",
      "                                                                                                  \n",
      " conv2d_241 (Conv2D)            (None, 128, 128, 64  4160        ['multiply_27[0][0]']            \n",
      "                                )                                                                 \n",
      "                                                                                                  \n",
      " concatenate_27 (Concatenate)   (None, 128, 128, 12  0           ['conv2d_transpose_27[0][0]',    \n",
      "                                8)                                'conv2d_241[0][0]']             \n",
      "                                                                                                  \n",
      " dropout_55 (Dropout)           (None, 128, 128, 12  0           ['concatenate_27[0][0]']         \n",
      "                                8)                                                                \n",
      "                                                                                                  \n",
      " conv2d_242 (Conv2D)            (None, 128, 128, 64  73792       ['dropout_55[0][0]']             \n",
      "                                )                                                                 \n",
      "                                                                                                  \n",
      " activation_180 (Activation)    (None, 128, 128, 64  0           ['conv2d_242[0][0]']             \n",
      "                                )                                                                 \n",
      "                                                                                                  \n",
      " conv2d_243 (Conv2D)            (None, 128, 128, 64  36928       ['activation_180[0][0]']         \n",
      "                                )                                                                 \n",
      "                                                                                                  \n",
      " activation_181 (Activation)    (None, 128, 128, 64  0           ['conv2d_243[0][0]']             \n",
      "                                )                                                                 \n",
      "                                                                                                  \n",
      " conv2d_244 (Conv2D)            (None, 128, 128, 1)  65          ['activation_181[0][0]']         \n",
      "                                                                                                  \n",
      "==================================================================================================\n",
      "Total params: 36,693,893\n",
      "Trainable params: 36,693,893\n",
      "Non-trainable params: 0\n",
      "__________________________________________________________________________________________________\n"
     ]
    }
   ],
   "source": [
    "OUTPUT_CHANNELS = 1\n",
    "\n",
    "def unet():\n",
    "    '''\n",
    "    Defines the UNet by connecting the encoder, bottleneck and decoder.\n",
    "    '''\n",
    "\n",
    "    # specify the input shape\n",
    "    inputs = tf.keras.layers.Input(shape=(128, 128,6,))\n",
    "\n",
    "    # feed the inputs to the encoder\n",
    "    encoder_output, convs = encoder(inputs)\n",
    "\n",
    "    # feed the encoder output to the bottleneck\n",
    "    bottle_neck = bottleneck(encoder_output)\n",
    "\n",
    "    # feed the bottleneck and encoder block outputs to the decoder\n",
    "    # specify the number of classes via the `output_channels` argument\n",
    "    outputs = decoder(bottle_neck, convs,encoder_output, output_channels=OUTPUT_CHANNELS)\n",
    "\n",
    "    # create the model\n",
    "    model = tf.keras.Model(inputs=[inputs], outputs=[outputs])\n",
    "\n",
    "    return model\n",
    "\n",
    "# instantiate the model\n",
    "model = unet()\n",
    "\n",
    "# see the resulting model architecture\n",
    "model.summary()\n"
   ]
  },
  {
   "cell_type": "markdown",
   "id": "Lh3L6Ng5xjUg",
   "metadata": {
    "id": "Lh3L6Ng5xjUg"
   },
   "source": [
    "##focal_loss"
   ]
  },
  {
   "cell_type": "code",
   "execution_count": 23,
   "id": "FImo34fxdXpc",
   "metadata": {
    "id": "FImo34fxdXpc"
   },
   "outputs": [],
   "source": [
    "!pip install -q focal_loss\n",
    "import numpy as np\n",
    "import tensorflow as tf\n",
    "from focal_loss import sparse_categorical_focal_loss\n",
    "\n",
    "def focal_loss_2(y_true, y_pred):\n",
    "    gamma = 2\n",
    "    alpha = 0.25\n",
    "    pt_1 = tf.where(tf.equal(y_true, 1), y_pred, tf.ones_like(y_pred))\n",
    "    pt_0 = tf.where(tf.equal(y_true, 0), y_pred, tf.zeros_like(y_pred))\n",
    "    return -K.sum(alpha * K.pow(1. - pt_1, gamma) * K.log(pt_1))-K.sum((1-alpha) * K.pow( pt_0, gamma) * K.log(1. - pt_0))"
   ]
  },
  {
   "cell_type": "markdown",
   "id": "hTs9sWvbxnYh",
   "metadata": {
    "id": "hTs9sWvbxnYh"
   },
   "source": [
    "##contrastive_loss"
   ]
  },
  {
   "cell_type": "code",
   "execution_count": 24,
   "id": "IqGaAozDylji",
   "metadata": {
    "id": "IqGaAozDylji"
   },
   "outputs": [],
   "source": [
    "from tensorflow.keras import backend as K\n",
    "\n",
    "def contrastive_loss(y_true, y_pred):\n",
    " margin = 0.4\n",
    " square_pred = K.square(y_pred)\n",
    " margin_square = K.square(K.maximum(margin - y_pred, 0))\n",
    " return K.mean(y_true * square_pred + (1 - y_true) * margin_square)\n"
   ]
  },
  {
   "cell_type": "code",
   "execution_count": 25,
   "id": "54s4q79-RH3d",
   "metadata": {
    "id": "54s4q79-RH3d"
   },
   "outputs": [],
   "source": [
    "from tensorflow.keras import backend as K\n",
    "\n",
    "def weighted_binary_crossentropy(zero_weight, one_weight):\n",
    "\n",
    "    def weighted_binary_crossentropy(y_true, y_pred):\n",
    "\n",
    "        # Original binary crossentropy (see losses.py):\n",
    "        # K.mean(K.binary_crossentropy(y_true, y_pred), axis=-1)\n",
    "\n",
    "        # Calculate the binary crossentropy\n",
    "        b_ce = K.binary_crossentropy(y_true, y_pred)\n",
    "\n",
    "        # Apply the weights\n",
    "        weight_vector = y_true * one_weight + (1. - y_true) * zero_weight\n",
    "        weighted_b_ce = weight_vector * b_ce\n",
    "\n",
    "        # Return the mean error\n",
    "        return K.mean(weighted_b_ce)\n",
    "\n",
    "    return weighted_binary_crossentropy"
   ]
  },
  {
   "cell_type": "code",
   "execution_count": 113,
   "id": "tlpNbutr7gDx",
   "metadata": {
    "id": "tlpNbutr7gDx"
   },
   "outputs": [],
   "source": [
    "model.compile(optimizer=tf.keras.optimizers.Adam(learning_rate = 0.002), loss= weighted_binary_crossentropy(0.10, 0.90),\n",
    "              metrics=['accuracy'])"
   ]
  },
  {
   "cell_type": "code",
   "execution_count": 115,
   "id": "aNYZOXoJhz1H",
   "metadata": {
    "id": "aNYZOXoJhz1H"
   },
   "outputs": [],
   "source": [
    "from keras.models import load_model\n",
    "\n",
    "# Train your Keras model here\n",
    "model.save('/content/drive/My Drive/my_model_Attintion_Unet_Chance_detiction_M_2.h5')  # creates a HDF5 file 'my_model.h5'\n"
   ]
  },
  {
   "cell_type": "code",
   "execution_count": 130,
   "id": "HLtimYQzte_r",
   "metadata": {
    "id": "HLtimYQzte_r"
   },
   "outputs": [],
   "source": [
    "!mkdir -p '/content/drive/My Drive/my_project_path'\n",
    "!touch '/content/drive/My Drive/my_project_path/custom_loss_functions.py'\n"
   ]
  },
  {
   "cell_type": "code",
   "execution_count": 131,
   "id": "bqYU8M_1t5hN",
   "metadata": {
    "colab": {
     "base_uri": "https://localhost:8080/"
    },
    "id": "bqYU8M_1t5hN",
    "outputId": "8a9c7415-4420-4ed0-c019-72d33b80a8fe"
   },
   "outputs": [
    {
     "name": "stdout",
     "output_type": "stream",
     "text": [
      "Drive already mounted at /content/drive; to attempt to forcibly remount, call drive.mount(\"/content/drive\", force_remount=True).\n"
     ]
    }
   ],
   "source": [
    "from google.colab import drive\n",
    "drive.mount('/content/drive')\n",
    "import sys\n",
    "sys.path.append('/content/drive/My Drive/my_project_path')\n"
   ]
  },
  {
   "cell_type": "code",
   "execution_count": 99,
   "id": "PMrOmtvA5h11",
   "metadata": {
    "id": "PMrOmtvA5h11"
   },
   "outputs": [],
   "source": [
    "# number of training images\n",
    "#train_count = 367\n",
    "\n",
    "train_count=len(image_A_paths)\n",
    "# numer of validation images\n",
    "#validation_count = 101\n",
    "validation_count=len(validation_image_A_paths)\n",
    "BATCH_SIZE = 64\n",
    "\n",
    "EPOCHS = 100\n",
    "\n",
    "#steps_per_epoch = train_count//BATCH_SIZE # BATCH_SIZE = 64\n",
    "validation_steps = validation_count//BATCH_SIZE"
   ]
  },
  {
   "cell_type": "code",
   "execution_count": 100,
   "id": "fpHqRI_UNVbM",
   "metadata": {
    "colab": {
     "base_uri": "https://localhost:8080/"
    },
    "id": "fpHqRI_UNVbM",
    "outputId": "e78ccfac-d717-463c-88e7-3f0ffc1088eb"
   },
   "outputs": [
    {
     "name": "stdout",
     "output_type": "stream",
     "text": [
      "Epoch 1/100\n",
      "2/2 [==============================] - 16s 5s/step - loss: 0.0274 - accuracy: 0.9243 - val_loss: 0.0331 - val_accuracy: 0.9619\n",
      "Epoch 2/100\n",
      "2/2 [==============================] - 15s 5s/step - loss: 0.0275 - accuracy: 0.9445 - val_loss: 0.0259 - val_accuracy: 0.9394\n",
      "Epoch 3/100\n",
      "2/2 [==============================] - 16s 6s/step - loss: 0.0281 - accuracy: 0.9182 - val_loss: 0.0375 - val_accuracy: 0.9667\n",
      "Epoch 4/100\n",
      "2/2 [==============================] - 16s 6s/step - loss: 0.0276 - accuracy: 0.9475 - val_loss: 0.0256 - val_accuracy: 0.9428\n",
      "Epoch 5/100\n",
      "2/2 [==============================] - 14s 6s/step - loss: 0.0275 - accuracy: 0.9236 - val_loss: 0.0345 - val_accuracy: 0.9663\n",
      "Epoch 6/100\n",
      "2/2 [==============================] - 14s 6s/step - loss: 0.0278 - accuracy: 0.9395 - val_loss: 0.0264 - val_accuracy: 0.9506\n",
      "Epoch 7/100\n",
      "2/2 [==============================] - 14s 6s/step - loss: 0.0267 - accuracy: 0.9369 - val_loss: 0.0314 - val_accuracy: 0.9616\n",
      "Epoch 8/100\n",
      "2/2 [==============================] - 15s 6s/step - loss: 0.0264 - accuracy: 0.9342 - val_loss: 0.0274 - val_accuracy: 0.9535\n",
      "Epoch 9/100\n",
      "2/2 [==============================] - 14s 5s/step - loss: 0.0262 - accuracy: 0.9358 - val_loss: 0.0301 - val_accuracy: 0.9619\n",
      "Epoch 10/100\n",
      "2/2 [==============================] - 14s 5s/step - loss: 0.0265 - accuracy: 0.9333 - val_loss: 0.0297 - val_accuracy: 0.9611\n",
      "Epoch 11/100\n",
      "2/2 [==============================] - 16s 6s/step - loss: 0.0273 - accuracy: 0.9472 - val_loss: 0.0257 - val_accuracy: 0.9263\n",
      "Epoch 12/100\n",
      "2/2 [==============================] - 14s 5s/step - loss: 0.0291 - accuracy: 0.9058 - val_loss: 0.0330 - val_accuracy: 0.9682\n",
      "Epoch 13/100\n",
      "2/2 [==============================] - 15s 6s/step - loss: 0.0281 - accuracy: 0.9573 - val_loss: 0.0249 - val_accuracy: 0.9410\n",
      "Epoch 14/100\n",
      "2/2 [==============================] - 15s 5s/step - loss: 0.0294 - accuracy: 0.9065 - val_loss: 0.0259 - val_accuracy: 0.9553\n",
      "Epoch 15/100\n",
      "2/2 [==============================] - 15s 5s/step - loss: 0.0300 - accuracy: 0.9478 - val_loss: 0.0252 - val_accuracy: 0.9538\n",
      "Epoch 16/100\n",
      "2/2 [==============================] - 15s 5s/step - loss: 0.0287 - accuracy: 0.9197 - val_loss: 0.0253 - val_accuracy: 0.9349\n",
      "Epoch 17/100\n",
      "2/2 [==============================] - 15s 7s/step - loss: 0.0284 - accuracy: 0.9332 - val_loss: 0.0347 - val_accuracy: 0.9714\n",
      "Epoch 18/100\n",
      "2/2 [==============================] - 15s 6s/step - loss: 0.0284 - accuracy: 0.9526 - val_loss: 0.0248 - val_accuracy: 0.9346\n",
      "Epoch 19/100\n",
      "2/2 [==============================] - 14s 6s/step - loss: 0.0283 - accuracy: 0.9078 - val_loss: 0.0293 - val_accuracy: 0.9588\n",
      "Epoch 20/100\n",
      "2/2 [==============================] - 16s 6s/step - loss: 0.0267 - accuracy: 0.9460 - val_loss: 0.0263 - val_accuracy: 0.9535\n",
      "Epoch 21/100\n",
      "2/2 [==============================] - 14s 6s/step - loss: 0.0262 - accuracy: 0.9302 - val_loss: 0.0258 - val_accuracy: 0.9503\n",
      "Epoch 22/100\n",
      "2/2 [==============================] - 14s 5s/step - loss: 0.0262 - accuracy: 0.9416 - val_loss: 0.0292 - val_accuracy: 0.9591\n",
      "Epoch 23/100\n",
      "2/2 [==============================] - 14s 6s/step - loss: 0.0261 - accuracy: 0.9369 - val_loss: 0.0254 - val_accuracy: 0.9427\n",
      "Epoch 24/100\n",
      "2/2 [==============================] - 15s 6s/step - loss: 0.0256 - accuracy: 0.9315 - val_loss: 0.0305 - val_accuracy: 0.9609\n",
      "Epoch 25/100\n",
      "2/2 [==============================] - 15s 5s/step - loss: 0.0251 - accuracy: 0.9460 - val_loss: 0.0256 - val_accuracy: 0.9464\n",
      "Epoch 26/100\n",
      "2/2 [==============================] - 15s 6s/step - loss: 0.0254 - accuracy: 0.9299 - val_loss: 0.0296 - val_accuracy: 0.9620\n",
      "Epoch 27/100\n",
      "2/2 [==============================] - 14s 5s/step - loss: 0.0251 - accuracy: 0.9494 - val_loss: 0.0251 - val_accuracy: 0.9494\n",
      "Epoch 28/100\n",
      "2/2 [==============================] - 15s 6s/step - loss: 0.0250 - accuracy: 0.9305 - val_loss: 0.0272 - val_accuracy: 0.9588\n",
      "Epoch 29/100\n",
      "2/2 [==============================] - 16s 6s/step - loss: 0.0245 - accuracy: 0.9481 - val_loss: 0.0260 - val_accuracy: 0.9545\n",
      "Epoch 30/100\n",
      "2/2 [==============================] - 15s 5s/step - loss: 0.0245 - accuracy: 0.9355 - val_loss: 0.0269 - val_accuracy: 0.9569\n",
      "Epoch 31/100\n",
      "2/2 [==============================] - 19s 12s/step - loss: 0.0240 - accuracy: 0.9421 - val_loss: 0.0286 - val_accuracy: 0.9605\n",
      "Epoch 32/100\n",
      "2/2 [==============================] - 15s 5s/step - loss: 0.0239 - accuracy: 0.9423 - val_loss: 0.0254 - val_accuracy: 0.9533\n",
      "Epoch 33/100\n",
      "2/2 [==============================] - 16s 6s/step - loss: 0.0239 - accuracy: 0.9388 - val_loss: 0.0295 - val_accuracy: 0.9627\n",
      "Epoch 34/100\n",
      "2/2 [==============================] - 15s 5s/step - loss: 0.0238 - accuracy: 0.9449 - val_loss: 0.0252 - val_accuracy: 0.9525\n",
      "Epoch 35/100\n",
      "2/2 [==============================] - 15s 5s/step - loss: 0.0238 - accuracy: 0.9404 - val_loss: 0.0282 - val_accuracy: 0.9607\n",
      "Epoch 36/100\n",
      "2/2 [==============================] - 15s 5s/step - loss: 0.0235 - accuracy: 0.9415 - val_loss: 0.0273 - val_accuracy: 0.9594\n",
      "Epoch 37/100\n",
      "2/2 [==============================] - 14s 5s/step - loss: 0.0235 - accuracy: 0.9486 - val_loss: 0.0241 - val_accuracy: 0.9446\n",
      "Epoch 38/100\n",
      "2/2 [==============================] - 13s 5s/step - loss: 0.0240 - accuracy: 0.9300 - val_loss: 0.0357 - val_accuracy: 0.9682\n",
      "Epoch 39/100\n",
      "2/2 [==============================] - 14s 6s/step - loss: 0.0254 - accuracy: 0.9423 - val_loss: 0.0240 - val_accuracy: 0.9404\n",
      "Epoch 40/100\n",
      "2/2 [==============================] - 14s 5s/step - loss: 0.0253 - accuracy: 0.9366 - val_loss: 0.0322 - val_accuracy: 0.9680\n",
      "Epoch 41/100\n",
      "2/2 [==============================] - 13s 5s/step - loss: 0.0245 - accuracy: 0.9505 - val_loss: 0.0238 - val_accuracy: 0.9403\n",
      "Epoch 42/100\n",
      "2/2 [==============================] - 14s 6s/step - loss: 0.0244 - accuracy: 0.9328 - val_loss: 0.0287 - val_accuracy: 0.9625\n",
      "Epoch 43/100\n",
      "2/2 [==============================] - 14s 5s/step - loss: 0.0234 - accuracy: 0.9485 - val_loss: 0.0246 - val_accuracy: 0.9519\n",
      "Epoch 44/100\n",
      "2/2 [==============================] - 15s 6s/step - loss: 0.0232 - accuracy: 0.9376 - val_loss: 0.0297 - val_accuracy: 0.9638\n",
      "Epoch 45/100\n",
      "2/2 [==============================] - 16s 6s/step - loss: 0.0232 - accuracy: 0.9501 - val_loss: 0.0244 - val_accuracy: 0.9499\n",
      "Epoch 46/100\n",
      "2/2 [==============================] - 14s 7s/step - loss: 0.0232 - accuracy: 0.9365 - val_loss: 0.0280 - val_accuracy: 0.9613\n",
      "Epoch 47/100\n",
      "2/2 [==============================] - 19s 11s/step - loss: 0.0228 - accuracy: 0.9472 - val_loss: 0.0252 - val_accuracy: 0.9538\n",
      "Epoch 48/100\n",
      "2/2 [==============================] - 16s 6s/step - loss: 0.0226 - accuracy: 0.9411 - val_loss: 0.0286 - val_accuracy: 0.9640\n",
      "Epoch 49/100\n",
      "2/2 [==============================] - 16s 6s/step - loss: 0.0227 - accuracy: 0.9484 - val_loss: 0.0245 - val_accuracy: 0.9542\n",
      "Epoch 50/100\n",
      "2/2 [==============================] - 15s 6s/step - loss: 0.0226 - accuracy: 0.9455 - val_loss: 0.0257 - val_accuracy: 0.9568\n",
      "Epoch 51/100\n",
      "2/2 [==============================] - 14s 6s/step - loss: 0.0221 - accuracy: 0.9426 - val_loss: 0.0255 - val_accuracy: 0.9581\n",
      "Epoch 52/100\n",
      "2/2 [==============================] - 14s 5s/step - loss: 0.0219 - accuracy: 0.9471 - val_loss: 0.0253 - val_accuracy: 0.9589\n",
      "Epoch 53/100\n",
      "2/2 [==============================] - 16s 6s/step - loss: 0.0217 - accuracy: 0.9472 - val_loss: 0.0252 - val_accuracy: 0.9573\n",
      "Epoch 54/100\n",
      "2/2 [==============================] - 14s 7s/step - loss: 0.0216 - accuracy: 0.9458 - val_loss: 0.0263 - val_accuracy: 0.9591\n",
      "Epoch 55/100\n",
      "2/2 [==============================] - 19s 12s/step - loss: 0.0214 - accuracy: 0.9469 - val_loss: 0.0251 - val_accuracy: 0.9577\n",
      "Epoch 56/100\n",
      "2/2 [==============================] - 16s 6s/step - loss: 0.0213 - accuracy: 0.9474 - val_loss: 0.0251 - val_accuracy: 0.9588\n",
      "Epoch 57/100\n",
      "2/2 [==============================] - 14s 6s/step - loss: 0.0211 - accuracy: 0.9483 - val_loss: 0.0243 - val_accuracy: 0.9543\n",
      "Epoch 58/100\n",
      "2/2 [==============================] - 14s 6s/step - loss: 0.0210 - accuracy: 0.9479 - val_loss: 0.0246 - val_accuracy: 0.9575\n",
      "Epoch 59/100\n",
      "2/2 [==============================] - 14s 5s/step - loss: 0.0207 - accuracy: 0.9463 - val_loss: 0.0303 - val_accuracy: 0.9662\n",
      "Epoch 60/100\n",
      "2/2 [==============================] - 14s 5s/step - loss: 0.0239 - accuracy: 0.9323 - val_loss: 0.0269 - val_accuracy: 0.9633\n",
      "Epoch 61/100\n",
      "2/2 [==============================] - 14s 6s/step - loss: 0.0223 - accuracy: 0.9575 - val_loss: 0.0234 - val_accuracy: 0.9490\n",
      "Epoch 62/100\n",
      "2/2 [==============================] - 14s 5s/step - loss: 0.0228 - accuracy: 0.9363 - val_loss: 0.0280 - val_accuracy: 0.9668\n",
      "Epoch 63/100\n",
      "2/2 [==============================] - 13s 5s/step - loss: 0.0220 - accuracy: 0.9589 - val_loss: 0.0227 - val_accuracy: 0.9501\n",
      "Epoch 64/100\n",
      "2/2 [==============================] - 14s 6s/step - loss: 0.0222 - accuracy: 0.9375 - val_loss: 0.0272 - val_accuracy: 0.9630\n",
      "Epoch 65/100\n",
      "2/2 [==============================] - 14s 5s/step - loss: 0.0212 - accuracy: 0.9488 - val_loss: 0.0254 - val_accuracy: 0.9541\n",
      "Epoch 66/100\n",
      "2/2 [==============================] - 16s 6s/step - loss: 0.0213 - accuracy: 0.9476 - val_loss: 0.0247 - val_accuracy: 0.9590\n",
      "Epoch 67/100\n",
      "2/2 [==============================] - 14s 6s/step - loss: 0.0212 - accuracy: 0.9463 - val_loss: 0.0255 - val_accuracy: 0.9611\n",
      "Epoch 68/100\n",
      "2/2 [==============================] - 14s 5s/step - loss: 0.0206 - accuracy: 0.9499 - val_loss: 0.0256 - val_accuracy: 0.9590\n",
      "Epoch 69/100\n",
      "2/2 [==============================] - 14s 7s/step - loss: 0.0207 - accuracy: 0.9489 - val_loss: 0.0250 - val_accuracy: 0.9604\n",
      "Epoch 70/100\n",
      "2/2 [==============================] - 19s 12s/step - loss: 0.0203 - accuracy: 0.9531 - val_loss: 0.0230 - val_accuracy: 0.9527\n",
      "Epoch 71/100\n",
      "2/2 [==============================] - 14s 5s/step - loss: 0.0203 - accuracy: 0.9444 - val_loss: 0.0333 - val_accuracy: 0.9693\n",
      "Epoch 72/100\n",
      "2/2 [==============================] - 16s 6s/step - loss: 0.0244 - accuracy: 0.9339 - val_loss: 0.0225 - val_accuracy: 0.9511\n",
      "Epoch 73/100\n",
      "2/2 [==============================] - 14s 6s/step - loss: 0.0229 - accuracy: 0.9536 - val_loss: 0.0230 - val_accuracy: 0.9541\n",
      "Epoch 74/100\n",
      "2/2 [==============================] - 14s 6s/step - loss: 0.0222 - accuracy: 0.9393 - val_loss: 0.0227 - val_accuracy: 0.9548\n",
      "Epoch 75/100\n",
      "2/2 [==============================] - 14s 6s/step - loss: 0.0217 - accuracy: 0.9570 - val_loss: 0.0244 - val_accuracy: 0.9662\n",
      "Epoch 76/100\n",
      "2/2 [==============================] - 13s 5s/step - loss: 0.0206 - accuracy: 0.9509 - val_loss: 0.0229 - val_accuracy: 0.9500\n",
      "Epoch 77/100\n",
      "2/2 [==============================] - 15s 6s/step - loss: 0.0206 - accuracy: 0.9444 - val_loss: 0.0283 - val_accuracy: 0.9627\n",
      "Epoch 78/100\n",
      "2/2 [==============================] - 19s 11s/step - loss: 0.0206 - accuracy: 0.9457 - val_loss: 0.0238 - val_accuracy: 0.9570\n",
      "Epoch 79/100\n",
      "2/2 [==============================] - 16s 6s/step - loss: 0.0208 - accuracy: 0.9528 - val_loss: 0.0232 - val_accuracy: 0.9567\n",
      "Epoch 80/100\n",
      "2/2 [==============================] - 19s 11s/step - loss: 0.0202 - accuracy: 0.9432 - val_loss: 0.0241 - val_accuracy: 0.9590\n",
      "Epoch 81/100\n",
      "2/2 [==============================] - 14s 5s/step - loss: 0.0204 - accuracy: 0.9578 - val_loss: 0.0234 - val_accuracy: 0.9536\n",
      "Epoch 82/100\n",
      "2/2 [==============================] - 19s 11s/step - loss: 0.0204 - accuracy: 0.9414 - val_loss: 0.0238 - val_accuracy: 0.9600\n",
      "Epoch 83/100\n",
      "2/2 [==============================] - 16s 6s/step - loss: 0.0199 - accuracy: 0.9582 - val_loss: 0.0238 - val_accuracy: 0.9599\n",
      "Epoch 84/100\n",
      "2/2 [==============================] - 15s 5s/step - loss: 0.0199 - accuracy: 0.9448 - val_loss: 0.0254 - val_accuracy: 0.9599\n",
      "Epoch 85/100\n",
      "2/2 [==============================] - 16s 6s/step - loss: 0.0192 - accuracy: 0.9566 - val_loss: 0.0242 - val_accuracy: 0.9590\n",
      "Epoch 86/100\n",
      "2/2 [==============================] - 14s 5s/step - loss: 0.0192 - accuracy: 0.9459 - val_loss: 0.0252 - val_accuracy: 0.9623\n",
      "Epoch 87/100\n",
      "2/2 [==============================] - 15s 5s/step - loss: 0.0191 - accuracy: 0.9575 - val_loss: 0.0228 - val_accuracy: 0.9482\n",
      "Epoch 88/100\n",
      "2/2 [==============================] - 14s 5s/step - loss: 0.0195 - accuracy: 0.9425 - val_loss: 0.0270 - val_accuracy: 0.9685\n",
      "Epoch 89/100\n",
      "2/2 [==============================] - 14s 6s/step - loss: 0.0196 - accuracy: 0.9644 - val_loss: 0.0221 - val_accuracy: 0.9437\n",
      "Epoch 90/100\n",
      "2/2 [==============================] - 16s 6s/step - loss: 0.0209 - accuracy: 0.9316 - val_loss: 0.0286 - val_accuracy: 0.9671\n",
      "Epoch 91/100\n",
      "2/2 [==============================] - 15s 6s/step - loss: 0.0196 - accuracy: 0.9622 - val_loss: 0.0225 - val_accuracy: 0.9522\n",
      "Epoch 92/100\n",
      "2/2 [==============================] - 16s 6s/step - loss: 0.0192 - accuracy: 0.9441 - val_loss: 0.0249 - val_accuracy: 0.9659\n",
      "Epoch 93/100\n",
      "2/2 [==============================] - 15s 5s/step - loss: 0.0197 - accuracy: 0.9642 - val_loss: 0.0221 - val_accuracy: 0.9470\n",
      "Epoch 94/100\n",
      "2/2 [==============================] - 16s 6s/step - loss: 0.0200 - accuracy: 0.9361 - val_loss: 0.0245 - val_accuracy: 0.9627\n",
      "Epoch 95/100\n",
      "2/2 [==============================] - 14s 5s/step - loss: 0.0197 - accuracy: 0.9633 - val_loss: 0.0217 - val_accuracy: 0.9492\n",
      "Epoch 96/100\n",
      "2/2 [==============================] - 15s 5s/step - loss: 0.0207 - accuracy: 0.9326 - val_loss: 0.0236 - val_accuracy: 0.9616\n",
      "Epoch 97/100\n",
      "2/2 [==============================] - 15s 6s/step - loss: 0.0207 - accuracy: 0.9631 - val_loss: 0.0227 - val_accuracy: 0.9529\n",
      "Epoch 98/100\n",
      "2/2 [==============================] - 16s 6s/step - loss: 0.0207 - accuracy: 0.9348 - val_loss: 0.0217 - val_accuracy: 0.9518\n",
      "Epoch 99/100\n",
      "2/2 [==============================] - 19s 11s/step - loss: 0.0196 - accuracy: 0.9556 - val_loss: 0.0297 - val_accuracy: 0.9721\n",
      "Epoch 100/100\n",
      "2/2 [==============================] - 16s 6s/step - loss: 0.0198 - accuracy: 0.9603 - val_loss: 0.0235 - val_accuracy: 0.9380\n"
     ]
    }
   ],
   "source": [
    "import random\n",
    "import numpy as np\n",
    "\n",
    "np.random.seed(44)  # set the random seed to 123\n",
    "\n",
    "model_history = model.fit(training_dataset,\n",
    "                    epochs=EPOCHS,\n",
    "                    #verbose=1,\n",
    "                    shuffle= True,\n",
    "                    #steps_per_epoch=steps_per_epoch,\n",
    "                    validation_data=validation_dataset\n",
    "                    #validation_st n ceps=validation_steps\n",
    "                    )"
   ]
  },
  {
   "cell_type": "code",
   "execution_count": 101,
   "id": "aMeyCuUz7D9s",
   "metadata": {
    "id": "aMeyCuUz7D9s"
   },
   "outputs": [],
   "source": [
    "def plot_metrics(metric_name, title, ylim=5):\n",
    "  '''plots a given metric from the model history'''\n",
    "  plt.title(title)\n",
    "  plt.ylim(0,ylim)\n",
    "  plt.plot(model_history.history[metric_name],color='blue',label=metric_name)\n",
    "  plt.plot(model_history.history['val_' + metric_name],color='green',label='val_' + metric_name)"
   ]
  },
  {
   "cell_type": "code",
   "execution_count": 102,
   "id": "VC6fdOV67EAV",
   "metadata": {
    "colab": {
     "base_uri": "https://localhost:8080/",
     "height": 452
    },
    "id": "VC6fdOV67EAV",
    "outputId": "f66c7fc9-6851-435c-f5a3-08bf152ed35b"
   },
   "outputs": [
    {
     "data": {
      "image/png": "[encoded data removed]",
      "text/plain": [
       "<Figure size 640x480 with 1 Axes>"
      ]
     },
     "metadata": {},
     "output_type": "display_data"
    }
   ],
   "source": [
    "# Plot the training and validation loss\n",
    "plot_metrics(\"loss\", title=\"Training vs Validation Loss\", ylim=1)"
   ]
  },
  {
   "cell_type": "code",
   "execution_count": 50,
   "id": "5q12zGC-AmT5",
   "metadata": {
    "colab": {
     "base_uri": "https://localhost:8080/"
    },
    "id": "5q12zGC-AmT5",
    "outputId": "1adcfb9b-d2c7-469e-d27a-16c5c88b8a97"
   },
   "outputs": [
    {
     "name": "stdout",
     "output_type": "stream",
     "text": [
      "1.0\n",
      "-1.0\n"
     ]
    }
   ],
   "source": [
    "for i in training_dataset.take(1):\n",
    "  #plt.imshow(i[0])\n",
    "  #plt.show()\n",
    "  print(np.amax(i[0]))\n",
    "  print(np.amin(i[0]))"
   ]
  },
  {
   "cell_type": "code",
   "execution_count": 103,
   "id": "-a0k0RSGXQ56",
   "metadata": {
    "colab": {
     "base_uri": "https://localhost:8080/"
    },
    "id": "-a0k0RSGXQ56",
    "outputId": "77fecbe4-50ff-477c-daf8-1a2d3af0c306"
   },
   "outputs": [
    {
     "name": "stdout",
     "output_type": "stream",
     "text": [
      "1/1 [==============================] - 0s 54ms/step\n"
     ]
    }
   ],
   "source": [
    "predict=model.predict(test_imgs)"
   ]
  },
  {
   "cell_type": "code",
   "execution_count": 147,
   "id": "Wv40Nplz27-R",
   "metadata": {
    "colab": {
     "base_uri": "https://localhost:8080/"
    },
    "id": "Wv40Nplz27-R",
    "outputId": "e6c78f9f-2255-4389-8b7f-3d2a7eeb9370"
   },
   "outputs": [
    {
     "name": "stdout",
     "output_type": "stream",
     "text": [
      "1/1 [==============================] - 1s 895ms/step\n"
     ]
    }
   ],
   "source": [
    "predict_55=l_model.predict(test_imgs)"
   ]
  },
  {
   "cell_type": "code",
   "execution_count": 34,
   "id": "YzP1VVEHZtkt",
   "metadata": {
    "colab": {
     "base_uri": "https://localhost:8080/"
    },
    "id": "YzP1VVEHZtkt",
    "outputId": "f09fc05d-fdce-47c3-c40b-655c70834987"
   },
   "outputs": [
    {
     "data": {
      "text/plain": [
       "(128, 128, 128, 1)"
      ]
     },
     "execution_count": 34,
     "metadata": {},
     "output_type": "execute_result"
    }
   ],
   "source": [
    "predict.shape"
   ]
  },
  {
   "cell_type": "code",
   "execution_count": 104,
   "id": "UqOxG-xiA2Iy",
   "metadata": {
    "colab": {
     "base_uri": "https://localhost:8080/"
    },
    "id": "UqOxG-xiA2Iy",
    "outputId": "ef00820b-1e54-4df8-d026-144ebcf2ddc3"
   },
   "outputs": [
    {
     "data": {
      "text/plain": [
       "2.2920491e-20"
      ]
     },
     "execution_count": 104,
     "metadata": {},
     "output_type": "execute_result"
    }
   ],
   "source": [
    "predict[:,:,:,:].min()"
   ]
  },
  {
   "cell_type": "code",
   "execution_count": 157,
   "id": "Tbc-FvyRTrYx",
   "metadata": {
    "colab": {
     "base_uri": "https://localhost:8080/"
    },
    "id": "Tbc-FvyRTrYx",
    "outputId": "773119b2-d518-4c90-a728-8ce8ab72423f"
   },
   "outputs": [
    {
     "data": {
      "text/plain": [
       "0.999997"
      ]
     },
     "execution_count": 157,
     "metadata": {},
     "output_type": "execute_result"
    }
   ],
   "source": [
    "predict[:,:,:,:].max()"
   ]
  },
  {
   "cell_type": "code",
   "execution_count": 106,
   "id": "4NW0q2M3Ur_d",
   "metadata": {
    "colab": {
     "base_uri": "https://localhost:8080/"
    },
    "id": "4NW0q2M3Ur_d",
    "outputId": "750bd80a-7e3c-4d27-8f65-e0f9c91fd84b"
   },
   "outputs": [
    {
     "name": "stdout",
     "output_type": "stream",
     "text": [
      "[False  True]\n"
     ]
    }
   ],
   "source": [
    "predict_2 = predict > 0.8\n",
    "print (np.unique (predict_2))"
   ]
  },
  {
   "cell_type": "code",
   "execution_count": 151,
   "id": "OvXdh6gBdsPn",
   "metadata": {
    "colab": {
     "base_uri": "https://localhost:8080/",
     "height": 434
    },
    "id": "OvXdh6gBdsPn",
    "outputId": "55f2333f-6d46-46ad-b197-9b4423373d87"
   },
   "outputs": [
    {
     "data": {
      "image/png": "[encoded data removed]",
      "text/plain": [
       "<Figure size 640x480 with 1 Axes>"
      ]
     },
     "metadata": {},
     "output_type": "display_data"
    }
   ],
   "source": [
    "plt.imshow(predict_2[0,:,:,:]*255,cmap='gray')\n",
    "plt.show()"
   ]
  },
  {
   "cell_type": "code",
   "execution_count": 111,
   "id": "y7SKmjPacEM_",
   "metadata": {
    "colab": {
     "base_uri": "https://localhost:8080/",
     "height": 434
    },
    "id": "y7SKmjPacEM_",
    "outputId": "18f4b7b7-f8ed-41f7-bfab-76b29559c72a"
   },
   "outputs": [
    {
     "data": {
      "image/png": "[encoded data removed]",
      "text/plain": [
       "<Figure size 640x480 with 1 Axes>"
      ]
     },
     "metadata": {},
     "output_type": "display_data"
    }
   ],
   "source": [
    "for i in test_label.take(1):\n",
    "  plt.imshow(i[3,:,:,:],cmap='gray')\n",
    "  plt.show()"
   ]
  }
 ],
 "metadata": {
  "accelerator": "GPU",
  "colab": {
   "provenance": []
  },
  "gpuClass": "standard",
  "kernelspec": {
   "display_name": "Python 3 (ipykernel)",
   "language": "python",
   "name": "python3"
  },
  "language_info": {
   "codemirror_mode": {
    "name": "ipython",
    "version": 3
   },
   "file_extension": ".py",
   "mimetype": "text/x-python",
   "name": "python",
   "nbconvert_exporter": "python",
   "pygments_lexer": "ipython3",
   "version": "3.9.7"
  }
 },
 "nbformat": 4,
 "nbformat_minor": 5
}
